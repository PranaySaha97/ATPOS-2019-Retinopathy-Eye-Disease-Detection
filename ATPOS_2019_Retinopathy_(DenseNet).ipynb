{
  "nbformat": 4,
  "nbformat_minor": 0,
  "metadata": {
    "colab": {
      "name": "ATPOS 2019 Retinopathy (DenseNet)",
      "provenance": [],
      "include_colab_link": true
    },
    "kernelspec": {
      "name": "python3",
      "display_name": "Python 3"
    },
    "accelerator": "GPU"
  },
  "cells": [
    {
      "cell_type": "markdown",
      "metadata": {
        "id": "view-in-github",
        "colab_type": "text"
      },
      "source": [
        "<a href=\"https://colab.research.google.com/github/PranaySaha97/ATPOS-2019-Retinopathy-Eye-Disease-Detection/blob/master/ATPOS_2019_Retinopathy_(DenseNet).ipynb\" target=\"_parent\"><img src=\"https://colab.research.google.com/assets/colab-badge.svg\" alt=\"Open In Colab\"/></a>"
      ]
    },
    {
      "cell_type": "code",
      "metadata": {
        "id": "imTogKJRHIYL",
        "colab_type": "code",
        "colab": {
          "base_uri": "https://localhost:8080/",
          "height": 513
        },
        "outputId": "f81c3711-453e-42ce-edf7-cb09072feaa2"
      },
      "source": [
        "!pip install kaggle\n",
        "api_token = {\"username\":\"Your Userrname\",\"key\":\"Your Key\"}\n",
        "!mkdir /root/.kaggle\n",
        "!echo '{\"username\":\"Your Username\",\"key\":\"Your Key\"}' > /root/.kaggle/kaggle.json\n",
        "\n",
        "!kaggle competitions download -c aptos2019-blindness-detection\n",
        "\n",
        "import zipfile\n",
        "zip_ref = zipfile.ZipFile(\"/content/train_images.zip\", 'r')\n",
        "zip_ref.extractall(\"/content/train_images/\")\n",
        "zip_ref.close()\n",
        "\n",
        "zip_ref = zipfile.ZipFile(\"/content/test_images.zip\", 'r')\n",
        "zip_ref.extractall(\"/content/test_images\")\n",
        "zip_ref.close()\n",
        "\n"
      ],
      "execution_count": 1,
      "outputs": [
        {
          "output_type": "stream",
          "text": [
            "Requirement already satisfied: kaggle in /usr/local/lib/python3.6/dist-packages (1.5.6)\n",
            "Requirement already satisfied: urllib3<1.25,>=1.21.1 in /usr/local/lib/python3.6/dist-packages (from kaggle) (1.24.3)\n",
            "Requirement already satisfied: python-slugify in /usr/local/lib/python3.6/dist-packages (from kaggle) (4.0.0)\n",
            "Requirement already satisfied: certifi in /usr/local/lib/python3.6/dist-packages (from kaggle) (2019.9.11)\n",
            "Requirement already satisfied: tqdm in /usr/local/lib/python3.6/dist-packages (from kaggle) (4.28.1)\n",
            "Requirement already satisfied: six>=1.10 in /usr/local/lib/python3.6/dist-packages (from kaggle) (1.12.0)\n",
            "Requirement already satisfied: requests in /usr/local/lib/python3.6/dist-packages (from kaggle) (2.21.0)\n",
            "Requirement already satisfied: python-dateutil in /usr/local/lib/python3.6/dist-packages (from kaggle) (2.6.1)\n",
            "Requirement already satisfied: text-unidecode>=1.3 in /usr/local/lib/python3.6/dist-packages (from python-slugify->kaggle) (1.3)\n",
            "Requirement already satisfied: chardet<3.1.0,>=3.0.2 in /usr/local/lib/python3.6/dist-packages (from requests->kaggle) (3.0.4)\n",
            "Requirement already satisfied: idna<2.9,>=2.5 in /usr/local/lib/python3.6/dist-packages (from requests->kaggle) (2.8)\n",
            "Warning: Your Kaggle API key is readable by other users on this system! To fix this, you can run 'chmod 600 /root/.kaggle/kaggle.json'\n",
            "Warning: Looks like you're using an outdated API Version, please consider updating (server 1.5.6 / client 1.5.4)\n",
            "Downloading train_images.zip to /content\n",
            "100% 8.00G/8.01G [01:37<00:00, 101MB/s] \n",
            "100% 8.01G/8.01G [01:37<00:00, 88.4MB/s]\n",
            "Downloading test_images.zip to /content\n",
            " 99% 1.48G/1.50G [00:08<00:00, 171MB/s]\n",
            "100% 1.50G/1.50G [00:08<00:00, 186MB/s]\n",
            "Downloading train.csv to /content\n",
            "  0% 0.00/53.7k [00:00<?, ?B/s]\n",
            "100% 53.7k/53.7k [00:00<00:00, 80.1MB/s]\n",
            "Downloading test.csv to /content\n",
            "  0% 0.00/24.5k [00:00<?, ?B/s]\n",
            "100% 24.5k/24.5k [00:00<00:00, 21.8MB/s]\n",
            "Downloading sample_submission.csv to /content\n",
            "  0% 0.00/28.3k [00:00<?, ?B/s]\n",
            "100% 28.3k/28.3k [00:00<00:00, 29.8MB/s]\n"
          ],
          "name": "stdout"
        }
      ]
    },
    {
      "cell_type": "code",
      "metadata": {
        "id": "LbQwzqQMI5iL",
        "colab_type": "code",
        "colab": {}
      },
      "source": [
        "# This Python 3 environment comes with many helpful analytics libraries installed\n",
        "# It is defined by the kaggle/python docker image: https://github.com/kaggle/docker-python\n",
        "# For example, here's several helpful packages to load in \n",
        "\n",
        "import numpy as np # linear algebra\n",
        "import pandas as pd # data processing, CSV file I/O (e.g. pd.read_csv)\n"
      ],
      "execution_count": 0,
      "outputs": []
    },
    {
      "cell_type": "code",
      "metadata": {
        "id": "H9UzyXkVI6Nh",
        "colab_type": "code",
        "colab": {}
      },
      "source": [
        "import tensorflow as tf\n",
        "from keras.models import Sequential\n",
        "from keras.layers import GlobalAveragePooling2D, Dense, Dropout\n",
        "from keras.preprocessing.image import ImageDataGenerator\n",
        "from keras.optimizers import Adam\n",
        "from keras.applications import DenseNet201"
      ],
      "execution_count": 0,
      "outputs": []
    },
    {
      "cell_type": "code",
      "metadata": {
        "id": "rW_ILmUKI8da",
        "colab_type": "code",
        "colab": {}
      },
      "source": [
        "def csv_reader(data): \n",
        "    read_data = pd.read_csv(data)\n",
        "    return(read_data)"
      ],
      "execution_count": 0,
      "outputs": []
    },
    {
      "cell_type": "code",
      "metadata": {
        "id": "KwfnkK-lI-_3",
        "colab_type": "code",
        "colab": {}
      },
      "source": [
        "train_df = csv_reader('train.csv')\n",
        "train_df['diagnosis'] = train_df['diagnosis'].astype('str')\n",
        "train_df['Image_name'] = train_df['id_code'].astype(str)+'.png'\n",
        "train_df = train_df.drop(columns = ['id_code'])"
      ],
      "execution_count": 0,
      "outputs": []
    },
    {
      "cell_type": "code",
      "metadata": {
        "id": "YcIFyhIbI_EA",
        "colab_type": "code",
        "colab": {}
      },
      "source": [
        "gen= ImageDataGenerator(rescale=1./255,\n",
        "                              zoom_range= 0.2,\n",
        "                              shear_range= 0.2,\n",
        "                              horizontal_flip= True,\n",
        "                              vertical_flip = True,\n",
        "                              validation_split=0.1)\n",
        "batch_size = 32"
      ],
      "execution_count": 0,
      "outputs": []
    },
    {
      "cell_type": "code",
      "metadata": {
        "id": "N91hJl4wJDdn",
        "colab_type": "code",
        "colab": {
          "base_uri": "https://localhost:8080/",
          "height": 51
        },
        "outputId": "67595b3f-c1ab-40c4-f9d4-f232ceac59c0"
      },
      "source": [
        "training_set=gen.flow_from_dataframe(\n",
        "    dataframe=train_df,\n",
        "    directory=\"train_images\",\n",
        "    x_col=\"Image_name\",\n",
        "    y_col=\"diagnosis\",\n",
        "    batch_size=batch_size,\n",
        "    shuffle=True,\n",
        "    class_mode=\"categorical\",\n",
        "    target_size=(224,224),\n",
        "    subset='training')\n",
        "\n",
        "testing_set=gen.flow_from_dataframe(\n",
        "    dataframe=train_df,\n",
        "    directory=\"train_images\",\n",
        "    x_col=\"Image_name\",\n",
        "    y_col=\"diagnosis\",\n",
        "    batch_size=batch_size,\n",
        "    shuffle=True,\n",
        "    class_mode=\"categorical\", \n",
        "    target_size=(224,224),\n",
        "    subset='validation')"
      ],
      "execution_count": 18,
      "outputs": [
        {
          "output_type": "stream",
          "text": [
            "Found 3296 validated image filenames belonging to 5 classes.\n",
            "Found 366 validated image filenames belonging to 5 classes.\n"
          ],
          "name": "stdout"
        }
      ]
    },
    {
      "cell_type": "code",
      "metadata": {
        "id": "MlxBjLZRQm2v",
        "colab_type": "code",
        "colab": {}
      },
      "source": [
        "def densenet_model():\n",
        "  dense_mod= DenseNet201(weights='imagenet', include_top=False, input_shape=(224,224,3))\n",
        "  mod= Sequential()\n",
        "  mod.add(dense_mod)\n",
        "  mod.add(GlobalAveragePooling2D())\n",
        "  mod.add(Dense(2500, activation='relu'))\n",
        "  mod.add(Dropout(0.5))\n",
        "  mod.add(Dense(5, activation='sigmoid'))\n",
        "  return mod"
      ],
      "execution_count": 0,
      "outputs": []
    },
    {
      "cell_type": "code",
      "metadata": {
        "id": "fpBtENbqJNOu",
        "colab_type": "code",
        "colab": {
          "base_uri": "https://localhost:8080/",
          "height": 343
        },
        "outputId": "e5955b43-f008-4268-cf9b-e257ab4249e3"
      },
      "source": [
        "mod= densenet_model()"
      ],
      "execution_count": 17,
      "outputs": [
        {
          "output_type": "stream",
          "text": [
            "WARNING:tensorflow:From /usr/local/lib/python3.6/dist-packages/keras/backend/tensorflow_backend.py:190: The name tf.get_default_session is deprecated. Please use tf.compat.v1.get_default_session instead.\n",
            "\n",
            "WARNING:tensorflow:From /usr/local/lib/python3.6/dist-packages/keras/backend/tensorflow_backend.py:197: The name tf.ConfigProto is deprecated. Please use tf.compat.v1.ConfigProto instead.\n",
            "\n",
            "WARNING:tensorflow:From /usr/local/lib/python3.6/dist-packages/keras/backend/tensorflow_backend.py:203: The name tf.Session is deprecated. Please use tf.compat.v1.Session instead.\n",
            "\n",
            "WARNING:tensorflow:From /usr/local/lib/python3.6/dist-packages/keras/backend/tensorflow_backend.py:207: The name tf.global_variables is deprecated. Please use tf.compat.v1.global_variables instead.\n",
            "\n",
            "WARNING:tensorflow:From /usr/local/lib/python3.6/dist-packages/keras/backend/tensorflow_backend.py:216: The name tf.is_variable_initialized is deprecated. Please use tf.compat.v1.is_variable_initialized instead.\n",
            "\n",
            "WARNING:tensorflow:From /usr/local/lib/python3.6/dist-packages/keras/backend/tensorflow_backend.py:223: The name tf.variables_initializer is deprecated. Please use tf.compat.v1.variables_initializer instead.\n",
            "\n",
            "WARNING:tensorflow:From /usr/local/lib/python3.6/dist-packages/keras/backend/tensorflow_backend.py:2041: The name tf.nn.fused_batch_norm is deprecated. Please use tf.compat.v1.nn.fused_batch_norm instead.\n",
            "\n",
            "WARNING:tensorflow:From /usr/local/lib/python3.6/dist-packages/keras/backend/tensorflow_backend.py:4271: The name tf.nn.avg_pool is deprecated. Please use tf.nn.avg_pool2d instead.\n",
            "\n",
            "Downloading data from https://github.com/keras-team/keras-applications/releases/download/densenet/densenet201_weights_tf_dim_ordering_tf_kernels_notop.h5\n",
            "74842112/74836368 [==============================] - 2s 0us/step\n"
          ],
          "name": "stdout"
        }
      ]
    },
    {
      "cell_type": "code",
      "metadata": {
        "id": "YTWktqTtJP8O",
        "colab_type": "code",
        "colab": {
          "base_uri": "https://localhost:8080/",
          "height": 323
        },
        "outputId": "3a4941e5-7683-433a-dd31-6e8e35e10190"
      },
      "source": [
        "mod.summary()"
      ],
      "execution_count": 19,
      "outputs": [
        {
          "output_type": "stream",
          "text": [
            "Model: \"sequential_2\"\n",
            "_________________________________________________________________\n",
            "Layer (type)                 Output Shape              Param #   \n",
            "=================================================================\n",
            "densenet201 (Model)          (None, 7, 7, 1920)        18321984  \n",
            "_________________________________________________________________\n",
            "global_average_pooling2d_1 ( (None, 1920)              0         \n",
            "_________________________________________________________________\n",
            "dense_3 (Dense)              (None, 2500)              4802500   \n",
            "_________________________________________________________________\n",
            "dropout_5 (Dropout)          (None, 2500)              0         \n",
            "_________________________________________________________________\n",
            "dense_4 (Dense)              (None, 5)                 12505     \n",
            "=================================================================\n",
            "Total params: 23,136,989\n",
            "Trainable params: 22,907,933\n",
            "Non-trainable params: 229,056\n",
            "_________________________________________________________________\n"
          ],
          "name": "stdout"
        }
      ]
    },
    {
      "cell_type": "code",
      "metadata": {
        "id": "6vWyrpYWJanC",
        "colab_type": "code",
        "colab": {
          "base_uri": "https://localhost:8080/",
          "height": 105
        },
        "outputId": "80b1ec1a-2ee2-46dc-a921-693e9b7b446a"
      },
      "source": [
        "mod.compile(optimizer=Adam(lr=0.001) , metrics=['accuracy'], loss='categorical_crossentropy')"
      ],
      "execution_count": 20,
      "outputs": [
        {
          "output_type": "stream",
          "text": [
            "WARNING:tensorflow:From /usr/local/lib/python3.6/dist-packages/keras/optimizers.py:793: The name tf.train.Optimizer is deprecated. Please use tf.compat.v1.train.Optimizer instead.\n",
            "\n",
            "WARNING:tensorflow:From /usr/local/lib/python3.6/dist-packages/keras/backend/tensorflow_backend.py:3576: The name tf.log is deprecated. Please use tf.math.log instead.\n",
            "\n"
          ],
          "name": "stdout"
        }
      ]
    },
    {
      "cell_type": "code",
      "metadata": {
        "id": "CiQajOqzJbVC",
        "colab_type": "code",
        "colab": {
          "base_uri": "https://localhost:8080/",
          "height": 85
        },
        "outputId": "172d45fd-29e2-4a96-aad0-1dfdbad04598"
      },
      "source": [
        "for data_batch, labels_batch in training_set:\n",
        "    print('data batch shape:', data_batch.shape)\n",
        "    print('labels batch shape:', labels_batch.shape)\n",
        "    break\n",
        "    \n",
        "for data_batch, labels_batch in testing_set:\n",
        "    print('data batch shape:', data_batch.shape)\n",
        "    print('labels batch shape:', labels_batch.shape)\n",
        "    break"
      ],
      "execution_count": 21,
      "outputs": [
        {
          "output_type": "stream",
          "text": [
            "data batch shape: (32, 224, 224, 3)\n",
            "labels batch shape: (32, 5)\n",
            "data batch shape: (32, 224, 224, 3)\n",
            "labels batch shape: (32, 5)\n"
          ],
          "name": "stdout"
        }
      ]
    },
    {
      "cell_type": "code",
      "metadata": {
        "id": "5wbrQIw2JdHa",
        "colab_type": "code",
        "colab": {
          "base_uri": "https://localhost:8080/",
          "height": 1000
        },
        "outputId": "d91bf88d-ff5a-4387-f115-de416bea3847"
      },
      "source": [
        "mod.fit_generator(training_set,\n",
        "                  epochs = 25,\n",
        "                  steps_per_epoch = 100,\n",
        "                  validation_data = testing_set,\n",
        "                  validation_steps = 10)"
      ],
      "execution_count": 22,
      "outputs": [
        {
          "output_type": "stream",
          "text": [
            "WARNING:tensorflow:From /usr/local/lib/python3.6/dist-packages/tensorflow_core/python/ops/math_grad.py:1424: where (from tensorflow.python.ops.array_ops) is deprecated and will be removed in a future version.\n",
            "Instructions for updating:\n",
            "Use tf.where in 2.0, which has the same broadcast rule as np.where\n",
            "WARNING:tensorflow:From /usr/local/lib/python3.6/dist-packages/keras/backend/tensorflow_backend.py:1033: The name tf.assign_add is deprecated. Please use tf.compat.v1.assign_add instead.\n",
            "\n",
            "WARNING:tensorflow:From /usr/local/lib/python3.6/dist-packages/keras/backend/tensorflow_backend.py:1020: The name tf.assign is deprecated. Please use tf.compat.v1.assign instead.\n",
            "\n",
            "Epoch 1/25\n",
            "100/100 [==============================] - 457s 5s/step - loss: 1.2230 - acc: 0.4544 - val_loss: 7.6774 - val_acc: 0.4875\n",
            "Epoch 2/25\n",
            "100/100 [==============================] - 412s 4s/step - loss: 0.7800 - acc: 0.7262 - val_loss: 7.6628 - val_acc: 0.4967\n",
            "Epoch 3/25\n",
            "100/100 [==============================] - 404s 4s/step - loss: 0.7215 - acc: 0.7422 - val_loss: 2.2393 - val_acc: 0.4669\n",
            "Epoch 4/25\n",
            "100/100 [==============================] - 390s 4s/step - loss: 0.7427 - acc: 0.7313 - val_loss: 7.5211 - val_acc: 0.5132\n",
            "Epoch 5/25\n",
            "100/100 [==============================] - 404s 4s/step - loss: 0.6716 - acc: 0.7503 - val_loss: 0.8052 - val_acc: 0.6854\n",
            "Epoch 6/25\n",
            "100/100 [==============================] - 397s 4s/step - loss: 0.6187 - acc: 0.7647 - val_loss: 0.7961 - val_acc: 0.7086\n",
            "Epoch 7/25\n",
            "100/100 [==============================] - 413s 4s/step - loss: 0.6362 - acc: 0.7556 - val_loss: 0.8217 - val_acc: 0.7312\n",
            "Epoch 8/25\n",
            "100/100 [==============================] - 435s 4s/step - loss: 0.7392 - acc: 0.7362 - val_loss: 8.5394 - val_acc: 0.4702\n",
            "Epoch 9/25\n",
            "100/100 [==============================] - 396s 4s/step - loss: 0.6740 - acc: 0.7603 - val_loss: 2.5661 - val_acc: 0.6556\n",
            "Epoch 10/25\n",
            "100/100 [==============================] - 401s 4s/step - loss: 0.6251 - acc: 0.7741 - val_loss: 0.9759 - val_acc: 0.7715\n",
            "Epoch 11/25\n",
            "100/100 [==============================] - 405s 4s/step - loss: 0.6086 - acc: 0.7694 - val_loss: 0.8258 - val_acc: 0.7252\n",
            "Epoch 12/25\n",
            "100/100 [==============================] - 403s 4s/step - loss: 0.6028 - acc: 0.7778 - val_loss: 0.9075 - val_acc: 0.7086\n",
            "Epoch 13/25\n",
            "100/100 [==============================] - 415s 4s/step - loss: 0.6210 - acc: 0.7756 - val_loss: 0.9776 - val_acc: 0.7750\n",
            "Epoch 14/25\n",
            "100/100 [==============================] - 453s 5s/step - loss: 0.5803 - acc: 0.7881 - val_loss: 1.0437 - val_acc: 0.6589\n",
            "Epoch 15/25\n",
            "100/100 [==============================] - 408s 4s/step - loss: 0.5890 - acc: 0.7812 - val_loss: 0.7446 - val_acc: 0.7185\n",
            "Epoch 16/25\n",
            "100/100 [==============================] - 415s 4s/step - loss: 0.6954 - acc: 0.7503 - val_loss: 4.9867 - val_acc: 0.4437\n",
            "Epoch 17/25\n",
            "100/100 [==============================] - 410s 4s/step - loss: 0.6280 - acc: 0.7669 - val_loss: 0.6267 - val_acc: 0.7616\n",
            "Epoch 18/25\n",
            "100/100 [==============================] - 403s 4s/step - loss: 0.5880 - acc: 0.7741 - val_loss: 0.6443 - val_acc: 0.7583\n",
            "Epoch 19/25\n",
            "100/100 [==============================] - 415s 4s/step - loss: 0.5688 - acc: 0.7928 - val_loss: 0.6307 - val_acc: 0.7875\n",
            "Epoch 20/25\n",
            "100/100 [==============================] - 446s 4s/step - loss: 0.7155 - acc: 0.7441 - val_loss: 8.6995 - val_acc: 0.4603\n",
            "Epoch 21/25\n",
            "100/100 [==============================] - 416s 4s/step - loss: 0.7033 - acc: 0.7384 - val_loss: 0.5948 - val_acc: 0.7815\n",
            "Epoch 22/25\n",
            "100/100 [==============================] - 420s 4s/step - loss: 0.6585 - acc: 0.7625 - val_loss: 4.2209 - val_acc: 0.4735\n",
            "Epoch 23/25\n",
            "100/100 [==============================] - 422s 4s/step - loss: 0.6344 - acc: 0.7669 - val_loss: 1.3081 - val_acc: 0.6126\n",
            "Epoch 24/25\n",
            "100/100 [==============================] - 418s 4s/step - loss: 0.6071 - acc: 0.7791 - val_loss: 0.6607 - val_acc: 0.7715\n",
            "Epoch 25/25\n",
            "100/100 [==============================] - 438s 4s/step - loss: 0.8881 - acc: 0.7212 - val_loss: 7.7308 - val_acc: 0.4656\n"
          ],
          "name": "stdout"
        },
        {
          "output_type": "execute_result",
          "data": {
            "text/plain": [
              "<keras.callbacks.History at 0x7fd32020ff98>"
            ]
          },
          "metadata": {
            "tags": []
          },
          "execution_count": 22
        }
      ]
    },
    {
      "cell_type": "code",
      "metadata": {
        "id": "CMSajczvCYJV",
        "colab_type": "code",
        "colab": {}
      },
      "source": [
        "mod.save('my_mod_dense.h5')"
      ],
      "execution_count": 0,
      "outputs": []
    },
    {
      "cell_type": "code",
      "metadata": {
        "id": "8UKs7spEJdQ7",
        "colab_type": "code",
        "colab": {}
      },
      "source": [
        "submission = csv_reader('test.csv')\n",
        "submission['Images'] = submission['id_code'].astype(str)+'.png'"
      ],
      "execution_count": 0,
      "outputs": []
    },
    {
      "cell_type": "code",
      "metadata": {
        "id": "zD7rQLGKJdc1",
        "colab_type": "code",
        "colab": {
          "base_uri": "https://localhost:8080/",
          "height": 34
        },
        "outputId": "7aab9f38-7936-49e9-c515-c673e9338eea"
      },
      "source": [
        "submission.head(5)\n",
        "submission_datagen=ImageDataGenerator(rescale=1./255)\n",
        "submission_gen=submission_datagen.flow_from_dataframe(\n",
        "    dataframe=submission,\n",
        "    directory=\"test_images\",\n",
        "    x_col=\"Images\",    \n",
        "    batch_size=batch_size,\n",
        "    shuffle=False,\n",
        "    class_mode=None, \n",
        "    target_size=(224,224)\n",
        ")"
      ],
      "execution_count": 28,
      "outputs": [
        {
          "output_type": "stream",
          "text": [
            "Found 1928 validated image filenames.\n"
          ],
          "name": "stdout"
        }
      ]
    },
    {
      "cell_type": "code",
      "metadata": {
        "id": "r0rFYuroJeNe",
        "colab_type": "code",
        "colab": {
          "base_uri": "https://localhost:8080/",
          "height": 136
        },
        "outputId": "ffc80a7a-67a1-4119-f19a-620b788b8cf4"
      },
      "source": [
        "predictions=mod.predict_generator(submission_gen, steps = len(submission_gen))\n",
        "print(predictions)"
      ],
      "execution_count": 29,
      "outputs": [
        {
          "output_type": "stream",
          "text": [
            "[[1. 0. 0. 0. 1.]\n",
            " [1. 0. 0. 0. 1.]\n",
            " [1. 0. 0. 0. 1.]\n",
            " ...\n",
            " [1. 0. 0. 0. 1.]\n",
            " [1. 0. 0. 0. 1.]\n",
            " [1. 0. 0. 0. 1.]]\n"
          ],
          "name": "stdout"
        }
      ]
    },
    {
      "cell_type": "code",
      "metadata": {
        "id": "Pg_sXqWDJeQc",
        "colab_type": "code",
        "colab": {
          "base_uri": "https://localhost:8080/",
          "height": 34
        },
        "outputId": "4df50b4a-f3c7-4f63-bc82-c9195ead844a"
      },
      "source": [
        "max_probability = np.argmax(predictions,axis=1) \n",
        "print(max_probability)"
      ],
      "execution_count": 30,
      "outputs": [
        {
          "output_type": "stream",
          "text": [
            "[0 0 0 ... 0 0 0]\n"
          ],
          "name": "stdout"
        }
      ]
    },
    {
      "cell_type": "code",
      "metadata": {
        "id": "5vgswP04JeTW",
        "colab_type": "code",
        "colab": {}
      },
      "source": [
        "submission.drop(columns=['Images'], inplace= True)\n",
        "submission['diagnosis'] = max_probability\n",
        "submission.to_csv('my_submission.csv', index=False)"
      ],
      "execution_count": 0,
      "outputs": []
    },
    {
      "cell_type": "code",
      "metadata": {
        "id": "5i8EVOoSCyqf",
        "colab_type": "code",
        "colab": {}
      },
      "source": [
        ""
      ],
      "execution_count": 0,
      "outputs": []
    }
  ]
}
